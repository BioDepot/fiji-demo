{
 "cells": [
  {
   "cell_type": "markdown",
   "metadata": {},
   "source": [
    "# Focal Adhesion Analysis\n",
    "This notebook will analyze the data produced from the \n",
    "segmentation macro in FIJI, compute some statistics,\n",
    "and generate visualizations for those statistics."
   ]
  },
  {
   "cell_type": "markdown",
   "metadata": {},
   "source": [
    "### Install dependencies\n",
    "We need the following libraries for the analysis:\n",
    "- Pandas\n",
    "- Scipy\n",
    "- Matplotlib\n",
    "- Numpy (a dependency of other libraries, so it is installed implicitly)"
   ]
  },
  {
   "cell_type": "code",
   "execution_count": null,
   "metadata": {
    "scrolled": false
   },
   "outputs": [],
   "source": [
    "%%capture\n",
    "# Install required dependencies: Pandas, Scipy, Matplotlib (and Numpy, implicitly)\n",
    "import sys\n",
    "!{sys.executable} -m pip install matplotlib pandas scipy"
   ]
  },
  {
   "cell_type": "code",
   "execution_count": null,
   "metadata": {},
   "outputs": [],
   "source": [
    "import pandas as pd\n",
    "import matplotlib.pyplot as plt\n",
    "from scipy.spatial import KDTree\n",
    "from scipy.stats import linregress\n",
    "import numpy as np"
   ]
  },
  {
   "cell_type": "markdown",
   "metadata": {},
   "source": [
    "### Read in the segmentation data\n",
    "We have two sources of data we want to analyze: the results of the \n",
    "\"Analyze Particles\" plugin in FIJI, which will give us the following\n",
    "information for each focal adhesion:\n",
    "- centroid location (x,y)\n",
    "- area of each particle (in pixels)\n",
    "- bounding ellipse information\n",
    "  - lengths of major and minor axes (in pixels)\n",
    "  - angle (with respect to the x-axis) of major axis\n",
    "- number of the frame/\"slice\" it belongs to\n",
    "and the results of the border segmentation, which will give us \n",
    "coordinates of each point on the cell border as well as the number of\n",
    "the slice it belongs to."
   ]
  },
  {
   "cell_type": "code",
   "execution_count": null,
   "metadata": {},
   "outputs": [],
   "source": [
    "# Read the \"Analyze Particles\" data exported from FIJI\n",
    "data = pd.read_csv(\"/data/Results.csv\")\n",
    "# Read the border coordinates\n",
    "borders = pd.read_csv(\"/data/border.txt\", \n",
    "                      sep='\\t', \n",
    "                      names=[\"x\", \"y\", \"slice\", \"val\"], \n",
    "                      usecols=[0,1,2])\n",
    "# Results use 1-indexed slice numbers, so subtract 1 to keep it \n",
    "# consistent with border indexing\n",
    "data[\"Slice\"] -= 1"
   ]
  },
  {
   "cell_type": "markdown",
   "metadata": {},
   "source": [
    "### Compute and plot area distribution\n",
    "Here we obtain the data in the \"Area\" column, which corresponds to the\n",
    "area of each segmented focal adhesion, and plot it in a histogram."
   ]
  },
  {
   "cell_type": "code",
   "execution_count": null,
   "metadata": {},
   "outputs": [],
   "source": [
    "areas = data[\"Area\"]\n",
    "areas.plot.hist(bins=50, title=\"Area Distribution\")"
   ]
  },
  {
   "cell_type": "markdown",
   "metadata": {},
   "source": [
    "### Compute and plot aspect ratio distribution\n",
    "Here we compute the aspect ratio, or ratio between the two dimensions of \n",
    "the focal adhesion, by dividing the major axis lengths by the minor axis lengths.\n",
    "We then plot it in a histogram."
   ]
  },
  {
   "cell_type": "code",
   "execution_count": null,
   "metadata": {},
   "outputs": [],
   "source": [
    "major_axes = data[\"Major\"]\n",
    "minor_axes = data[\"Minor\"]\n",
    "aspect_ratios = major_axes / minor_axes\n",
    "aspect_ratios.plot.hist(bins=50, title=\"Aspect Ratio Distribution\")"
   ]
  },
  {
   "cell_type": "markdown",
   "metadata": {},
   "source": [
    "### Compute angle with respect to border\n",
    "Here we compute the angle of the major axis of each focal adhesion with\n",
    "respect to the border. This analysis is somewhat more complicated than the\n",
    "other statistics, and involves the following steps, repeated for each slice:\n",
    "1. Get the border coordinates for the current slice; i.e. the entries\n",
    "   in the border coordinates table whose slice number corresponds to\n",
    "   the current one.\n",
    "2. Similarly, get the focal adhesions in the current slice.\n",
    "3. Build a $k$-d tree for each set of border coordinates, to allow for\n",
    "   fast lookup of nearest neighbors.\n",
    "4. For each focal adhesion, find the coordinates of the 10 border\n",
    "   points nearest to its centroid, and compute a best-fit line for\n",
    "   them. This will give us the slope $m_b$ and $y$-intercept of a line\n",
    "   approximately tangent to the border.\n",
    "   \n",
    "   *Note*: The two nearest neighbors are not sufficient since the\n",
    "   border is made up of pixels, so the two nearest neighbors often\n",
    "   form vertical or horizontal lines, with slopes $\\infty$ and $0$\n",
    "   respectively.\n",
    "5. For each focal adhesion, find the slope of its major axis; we have\n",
    "   its angle $\\theta_f$ so the slope is $m_f = \\tan(\\theta_f)$. In the\n",
    "   code we must convert between degrees and radians since FIJI exports\n",
    "   angles in degrees.\n",
    "6. Compute the angle $\\theta$ of each major axis with respect to the border\n",
    "   using the following formula:\n",
    "   $$\\theta = \\left|\\tan^{-1}{\\left(\\frac{m_f-m_b}{1 + m_f \\cdot\n",
    "   m_b}\\right)}\\right|$$\n",
    "   \n",
    "The code is more complicated since it tries to operate on entire numpy\n",
    "arrays whenever possible for efficiency, but it implements the above\n",
    "algorithm."
   ]
  },
  {
   "cell_type": "code",
   "execution_count": null,
   "metadata": {},
   "outputs": [],
   "source": [
    "import warnings\n",
    "\n",
    "# Produces an array of angles w.r.t the border for each focal adhesion in the given slice.\n",
    "def get_angle_wrt_border_for_slice(n):\n",
    "    # get border coordinate data for current slice\n",
    "    current_border = borders.loc[borders[\"slice\"] == n]\n",
    "    # get focal adhesion data for current slice\n",
    "    current_fas = data.loc[data[\"Slice\"] == n].reset_index(drop=True)\n",
    "    \n",
    "    # get border points as an array of (x,y) tuples\n",
    "    border_points = np.array(list(zip(current_border.x, current_border.y)))\n",
    "    # get coordinates of focal adhesion centroids as an array of (x,y) tuples\n",
    "    centroid_points = list(zip(current_fas.X, current_fas.Y))\n",
    "\n",
    "    # build k-d tree of border points, and then query the 10 nearest neighbors for each\n",
    "    # centroid point. This produces a 2-D array where rows are lists of neighbors for each\n",
    "    # centroid point, and the values in those rows are the indices (w.r.t. the original\n",
    "    # border_points array) of those neighbors\n",
    "    indices = KDTree(border_points).query(centroid_points, k=10)[1]\n",
    "    # Extract the x and y coordinates of the neighbors, using the indices. We now have two 2-D\n",
    "    # arrays where rows are lists of neighbor x and y coordinates for each centroid point.\n",
    "    neighbors_x = border_points.T[0].take(indices)\n",
    "    neighbors_y = border_points.T[1].take(indices)\n",
    "\n",
    "    # For every centroid point, find a best-fit line for its nearest neighbors and get the\n",
    "    # slope of that line.\n",
    "    border_slopes = np.array([linregress(neighbors_x[i], neighbors_y[i]).slope \n",
    "                              for i in range(0, len(indices))])\n",
    "    # Get the slope of each focal adhesion's major axis.\n",
    "    fa_axis_slopes = np.tan(np.radians(np.array(current_fas[\"Angle\"])))\n",
    "    \n",
    "    # Compute angles with respect to the border using the two slopes, and return the resulting\n",
    "    # array.\n",
    "    angles_wrt_border = np.abs(np.degrees(np.arctan((fa_axis_slopes-border_slopes) /\n",
    "                                                    (1 + fa_axis_slopes * border_slopes))))\n",
    "    return angles_wrt_border\n",
    "\n",
    "# Done to suppress warnings about dividing by zero; due to floating-point error we will\n",
    "# sometimes do division by \"zero\" while computing the angle.\n",
    "with warnings.catch_warnings():\n",
    "    warnings.simplefilter('ignore')\n",
    "    # Create a numpy universal function that we can apply to an array\n",
    "    np_func = np.frompyfunc(get_angle_wrt_border_for_slice, 1, 1)\n",
    "    # Apply the function to every slice.\n",
    "    all_angles_wrt_border = np_func(np.arange(0, data[\"Slice\"].max()+1))\n",
    "\n",
    "# concatenate results, and insert them into the table.\n",
    "all_angles_wrt_border = np.concatenate(all_angles_wrt_border)\n",
    "data[\"Angle_wrt_Border\"] = all_angles_wrt_border\n",
    "# Plot the distribution in a histogram\n",
    "data[\"Angle_wrt_Border\"].plot.hist(bins=50, title=\"Distribution of Angle w.r.t. Border\")"
   ]
  }
 ],
 "metadata": {
  "kernelspec": {
   "display_name": "Python 3",
   "language": "python",
   "name": "python3"
  },
  "language_info": {
   "codemirror_mode": {
    "name": "ipython",
    "version": 3
   },
   "file_extension": ".py",
   "mimetype": "text/x-python",
   "name": "python",
   "nbconvert_exporter": "python",
   "pygments_lexer": "ipython3",
   "version": "3.8.10"
  },
  "name": "visualize.ipynb"
 },
 "nbformat": 4,
 "nbformat_minor": 2
}
